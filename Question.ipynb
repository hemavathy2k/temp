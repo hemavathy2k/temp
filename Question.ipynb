{
 "cells": [
  {
   "cell_type": "markdown",
   "id": "e5cdc35f",
   "metadata": {},
   "source": [
    "## **NLP Sentiment Analysis**\n",
    "Welcome to the Sentiment Analysis challenge, in this scenario, you are going to predict the sentiment for the given dataset SA_dataset.csv\n"
   ]
  },
  {
   "cell_type": "markdown",
   "id": "f6b3dba2",
   "metadata": {},
   "source": [
    "# Instruction\n",
    "\n",
    "* The data set required for this task is given in the file name 'SA_dataset.csv'\n",
    "* Read the question then perform the solution and assign the answer to the respective variables given in the cells below\n",
    "* Run the cells one by one after completing the task\n",
    "* Write the solution in this notebook by adding cells and follow the given instructions below."
   ]
  },
  {
   "cell_type": "markdown",
   "id": "d49a874b",
   "metadata": {},
   "source": [
    "### Run the below cell to install the needed libraries\n",
    "\n",
    "**Note:**\n",
    "- If additional packages are needed, you can it installed in the notebook using the command:\n",
    "\n",
    "       !pip3 install --user package_name"
   ]
  },
  {
   "cell_type": "code",
   "execution_count": null,
   "id": "aa1de39c",
   "metadata": {},
   "outputs": [],
   "source": [
    "pip install nltk"
   ]
  },
  {
   "cell_type": "markdown",
   "id": "f1d6cf20",
   "metadata": {},
   "source": [
    "**Import required libraries for the task**"
   ]
  },
  {
   "cell_type": "code",
   "execution_count": null,
   "id": "b1b2974f",
   "metadata": {},
   "outputs": [],
   "source": [
    "import pandas as pd\n",
    "import nltk\n",
    "import re\n",
    "from nltk.corpus import stopwords\n",
    "from nltk.sentiment.vader import SentimentIntensityAnalyzer\n",
    "nltk.download('stopwords')\n",
    "nltk.download('vader_lexicon')"
   ]
  },
  {
   "cell_type": "markdown",
   "id": "14dcf864",
   "metadata": {},
   "source": [
    "### Read the CSV file SA_dataset.csv"
   ]
  },
  {
   "cell_type": "code",
   "execution_count": null,
   "id": "b3626e5c",
   "metadata": {},
   "outputs": [],
   "source": [
    "#write your code below\n",
    "\n",
    "review = pd.read_csv('SA_dataset.csv')"
   ]
  },
  {
   "cell_type": "markdown",
   "id": "60fc388e",
   "metadata": {},
   "source": [
    "### Perform Sentiment Analysis of the given data set and store it as the 'sentiment.csv' and the column names should be 'content', 'sentiment' and 'value'\n",
    "\n",
    "- Column 'content' has the text as given in the dataset\n",
    "- Column 'sentiment' has the predictions **Positive** or **Negative**\n",
    "- Column 'value' has numerical values **1** or **0**. Store 1 if the content is positive, store 0 if the content is negative\n",
    "\n",
    "\n",
    "-     **The Sample output format**\n",
    "\n",
    "<img src=\"sample_output.PNG\">\n",
    "\n",
    "Note: Output must be 'sentiment.csv'(dataframe) file"
   ]
  },
  {
   "cell_type": "markdown",
   "id": "fd593341",
   "metadata": {},
   "source": [
    "### Follow the Instructions given below\n",
    "\n",
    "- Read the data from the CSV file\n",
    "- Conver the content to lower case and remove the numbers, special charackers\n",
    "- Remove the stop words from the content\n",
    "- Create two columns 'sentiment' and 'value'\n",
    "- Predict the sentiment for the given data and store it to the respective columns\n",
    "- Once you done with the above steps save the dataframe as 'sentiment.csv' "
   ]
  },
  {
   "cell_type": "code",
   "execution_count": null,
   "id": "d08c32f2",
   "metadata": {},
   "outputs": [],
   "source": [
    "#Write your code here and add more cells as needed\n",
    "sia = SentimentIntensityAnalyzer()\n"
   ]
  },
  {
   "cell_type": "code",
   "execution_count": null,
   "id": "0d5f4b07",
   "metadata": {},
   "outputs": [],
   "source": [
    "def clean_text(text):\n",
    "    text = text.lower()\n",
    "    text = re.sub(r'\\d+', '', text)\n",
    "    text = re.sub(r'\\W', ' ', text)\n",
    "    text = re.sub(r'\\s+[a-zA-Z]\\s+', ' ', text)\n",
    "    text = ' '.join(word for word in text.split() if word not in stopwords.words('english'))\n",
    "    return text"
   ]
  },
  {
   "cell_type": "code",
   "execution_count": null,
   "id": "67ca62b7",
   "metadata": {},
   "outputs": [],
   "source": [
    "review['content'] = review['content'].apply(clean_text)"
   ]
  },
  {
   "cell_type": "code",
   "execution_count": null,
   "id": "9aedda7f",
   "metadata": {},
   "outputs": [],
   "source": [
    "def get_sentiment(text):\n",
    "    sentiment_scores = sia.polarity_scores(text)\n",
    "    if sentiment_scores['compound'] >= 0.05:\n",
    "        return 'Positive', 1\n",
    "    else:\n",
    "        return 'Negative', 0"
   ]
  },
  {
   "cell_type": "code",
   "execution_count": null,
   "id": "40c84efe",
   "metadata": {},
   "outputs": [],
   "source": [
    "review['sentiment'], review['value'] = zip(*review['content'].map(get_sentiment))"
   ]
  },
  {
   "cell_type": "code",
   "execution_count": null,
   "id": "e5b5f24f",
   "metadata": {},
   "outputs": [],
   "source": [
    "review.to_csv('sentiment.csv', index=False)"
   ]
  },
  {
   "cell_type": "code",
   "execution_count": null,
   "id": "f0943003",
   "metadata": {},
   "outputs": [],
   "source": []
  },
  {
   "cell_type": "code",
   "execution_count": null,
   "id": "b94f201d",
   "metadata": {},
   "outputs": [],
   "source": []
  },
  {
   "cell_type": "code",
   "execution_count": null,
   "id": "9f13d8cc",
   "metadata": {},
   "outputs": [],
   "source": []
  },
  {
   "cell_type": "code",
   "execution_count": null,
   "id": "3b2b9b82",
   "metadata": {},
   "outputs": [],
   "source": []
  },
  {
   "cell_type": "code",
   "execution_count": null,
   "id": "584d8067",
   "metadata": {},
   "outputs": [],
   "source": []
  },
  {
   "cell_type": "markdown",
   "id": "916092c3",
   "metadata": {},
   "source": [
    "### Run the below cell to tun the sample test"
   ]
  },
  {
   "cell_type": "code",
   "execution_count": null,
   "id": "4b2bb1fa",
   "metadata": {},
   "outputs": [],
   "source": [
    "!python sample_test.py"
   ]
  }
 ],
 "metadata": {
  "kernelspec": {
   "display_name": "Python 3 (ipykernel)",
   "language": "python",
   "name": "python3"
  },
  "language_info": {
   "codemirror_mode": {
    "name": "ipython",
    "version": 3
   },
   "file_extension": ".py",
   "mimetype": "text/x-python",
   "name": "python",
   "nbconvert_exporter": "python",
   "pygments_lexer": "ipython3",
   "version": "3.11.8"
  }
 },
 "nbformat": 4,
 "nbformat_minor": 5
}
